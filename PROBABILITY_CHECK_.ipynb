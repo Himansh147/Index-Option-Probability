{
  "nbformat": 4,
  "nbformat_minor": 0,
  "metadata": {
    "colab": {
      "provenance": []
    },
    "kernelspec": {
      "name": "python3",
      "display_name": "Python 3"
    },
    "language_info": {
      "name": "python"
    }
  },
  "cells": [
    {
      "cell_type": "code",
      "metadata": {
        "colab": {
          "base_uri": "https://localhost:8080/"
        },
        "id": "84dQi2p7AbfM",
        "outputId": "7998fb4d-c31f-4ade-bda0-da3f59b89539"
      },
      "source": [
        "# Code for checking probability of any option.\n",
        "!pip install mibian"
      ],
      "execution_count": 1,
      "outputs": [
        {
          "output_type": "stream",
          "name": "stdout",
          "text": [
            "Looking in indexes: https://pypi.org/simple, https://us-python.pkg.dev/colab-wheels/public/simple/\n",
            "Collecting mibian\n",
            "  Downloading mibian-0.1.3.zip (4.3 kB)\n",
            "Building wheels for collected packages: mibian\n",
            "  Building wheel for mibian (setup.py) ... \u001b[?25l\u001b[?25hdone\n",
            "  Created wheel for mibian: filename=mibian-0.1.3-py3-none-any.whl size=4039 sha256=5d3d9a3c8f846b9a32f4f9c98caff57112dda8d66bd94d70b7ec24da5288733e\n",
            "  Stored in directory: /root/.cache/pip/wheels/bb/8e/88/9401e806f2eaf5d2f4e775e598c27d7cc09bfb06998d075093\n",
            "Successfully built mibian\n",
            "Installing collected packages: mibian\n",
            "Successfully installed mibian-0.1.3\n"
          ]
        }
      ]
    },
    {
      "cell_type": "code",
      "metadata": {
        "id": "0Y4WEpulz3x3"
      },
      "source": [
        "import mibian"
      ],
      "execution_count": 2,
      "outputs": []
    },
    {
      "cell_type": "code",
      "metadata": {
        "id": "jXOmgJNvA-iK"
      },
      "source": [
        "# Just have to change values for these inputs depending on current prices\n",
        "current_price = 18414\n",
        "call_strike = 18600\n",
        "put_strike = 18300\n",
        "call_price = 34\n",
        "put_price = 93\n",
        "interest_rate = 10\n",
        "call_implied_volatility = 17.71\n",
        "put_implied_volatility = 12.5\n",
        "days_for_expiry = 4"
      ],
      "execution_count": 3,
      "outputs": []
    },
    {
      "cell_type": "code",
      "metadata": {
        "colab": {
          "base_uri": "https://localhost:8080/"
        },
        "id": "E7mrgTt_A-wH",
        "outputId": "086e6910-d001-492d-e00f-81d0b8e30471"
      },
      "source": [
        "# Calculate Black-Scholes and Merton values for CALL \n",
        "c = mibian.BS([current_price, call_strike,interest_rate, days_for_expiry], call_implied_volatility)\n",
        "print(c.callDelta)\n",
        "print(c.callTheta)\n",
        "print(c.vega)\n",
        "print(c.gamma)"
      ],
      "execution_count": 4,
      "outputs": [
        {
          "output_type": "stream",
          "name": "stdout",
          "text": [
            "0.31785035898832287\n",
            "-16.80185469093146\n",
            "6.874038222761262\n",
            "0.0010445517884414143\n"
          ]
        }
      ]
    },
    {
      "cell_type": "code",
      "metadata": {
        "colab": {
          "base_uri": "https://localhost:8080/"
        },
        "id": "CspHapy-Bz0s",
        "outputId": "56cc920a-3654-4536-dd48-b8915ed3f004"
      },
      "source": [
        "# Calculate Black-Scholes and Merton values for PUT\n",
        "p = mibian.BS([current_price, put_strike,interest_rate, days_for_expiry], put_implied_volatility)\n",
        "print(p.putDelta)\n",
        "print(p.putTheta)\n",
        "print(p.vega)\n",
        "print(p.gamma)"
      ],
      "execution_count": 5,
      "outputs": [
        {
          "output_type": "stream",
          "name": "stdout",
          "text": [
            "-0.28608031309823495\n",
            "-8.788990689291388\n",
            "6.556231366889438\n",
            "0.0014114999065957857\n"
          ]
        }
      ]
    },
    {
      "cell_type": "code",
      "metadata": {
        "id": "LQzwr7w0Wqrt"
      },
      "source": [],
      "execution_count": null,
      "outputs": []
    },
    {
      "cell_type": "code",
      "metadata": {
        "colab": {
          "base_uri": "https://localhost:8080/"
        },
        "id": "xzH8eeyNIAh6",
        "outputId": "eb1c432d-504a-466b-f213-b2e2985fd22d"
      },
      "source": [
        "\n",
        "# Calculate Putcall Parity\n",
        "c = mibian.BS([current_price, call_strike,interest_rate, days_for_expiry], callPrice=96, putPrice=93)\n",
        "print(c.putCallParity)"
      ],
      "execution_count": 6,
      "outputs": [
        {
          "output_type": "stream",
          "name": "stdout",
          "text": [
            "169.58253323670942\n"
          ]
        }
      ]
    },
    {
      "cell_type": "code",
      "metadata": {
        "id": "aXQ9oKxtVYuD"
      },
      "source": [],
      "execution_count": null,
      "outputs": []
    }
  ]
}